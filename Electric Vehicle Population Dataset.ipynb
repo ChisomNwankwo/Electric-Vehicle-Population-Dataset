{
 "cells": [
  {
   "cell_type": "markdown",
   "id": "8459ccb5",
   "metadata": {},
   "source": [
    "State of Washington — This dataset shows the Battery Electric Vehicles (BEVs) and Plug-in Hybrid Electric Vehicles (PHEVs) that are currently registered through Washington State Department.."
   ]
  },
  {
   "cell_type": "code",
   "execution_count": 3,
   "id": "d5f15ea6",
   "metadata": {},
   "outputs": [],
   "source": [
    "import pandas as pd\n",
    "import numpy as np  \n",
    "import matplotlib.pyplot as plt\n",
    "import seaborn as sns\n",
    "%matplotlib inline"
   ]
  },
  {
   "cell_type": "markdown",
   "id": "0f147480",
   "metadata": {},
   "source": [
    "At this point, I have very little idea as to what i am working on. For now, I will look at the dataset"
   ]
  },
  {
   "cell_type": "code",
   "execution_count": 23,
   "id": "1f452f56",
   "metadata": {},
   "outputs": [],
   "source": [
    "df = pd.read_csv(\"Electric_Vehicle_Population_Data.csv\")"
   ]
  },
  {
   "cell_type": "code",
   "execution_count": 5,
   "id": "1064297a",
   "metadata": {},
   "outputs": [
    {
     "data": {
      "text/html": [
       "<div>\n",
       "<style scoped>\n",
       "    .dataframe tbody tr th:only-of-type {\n",
       "        vertical-align: middle;\n",
       "    }\n",
       "\n",
       "    .dataframe tbody tr th {\n",
       "        vertical-align: top;\n",
       "    }\n",
       "\n",
       "    .dataframe thead th {\n",
       "        text-align: right;\n",
       "    }\n",
       "</style>\n",
       "<table border=\"1\" class=\"dataframe\">\n",
       "  <thead>\n",
       "    <tr style=\"text-align: right;\">\n",
       "      <th></th>\n",
       "      <th>VIN (1-10)</th>\n",
       "      <th>County</th>\n",
       "      <th>City</th>\n",
       "      <th>State</th>\n",
       "      <th>Postal Code</th>\n",
       "      <th>Model Year</th>\n",
       "      <th>Make</th>\n",
       "      <th>Model</th>\n",
       "      <th>Electric Vehicle Type</th>\n",
       "      <th>Clean Alternative Fuel Vehicle (CAFV) Eligibility</th>\n",
       "      <th>Electric Range</th>\n",
       "      <th>Base MSRP</th>\n",
       "      <th>Legislative District</th>\n",
       "      <th>DOL Vehicle ID</th>\n",
       "      <th>Vehicle Location</th>\n",
       "      <th>Electric Utility</th>\n",
       "      <th>2020 Census Tract</th>\n",
       "    </tr>\n",
       "  </thead>\n",
       "  <tbody>\n",
       "    <tr>\n",
       "      <th>0</th>\n",
       "      <td>5YJ3E1EA0K</td>\n",
       "      <td>Thurston</td>\n",
       "      <td>Tumwater</td>\n",
       "      <td>WA</td>\n",
       "      <td>98512.0</td>\n",
       "      <td>2019</td>\n",
       "      <td>TESLA</td>\n",
       "      <td>MODEL 3</td>\n",
       "      <td>Battery Electric Vehicle (BEV)</td>\n",
       "      <td>Clean Alternative Fuel Vehicle Eligible</td>\n",
       "      <td>220.0</td>\n",
       "      <td>0.0</td>\n",
       "      <td>22.0</td>\n",
       "      <td>242565116</td>\n",
       "      <td>POINT (-122.91310169999997 47.01359260000004)</td>\n",
       "      <td>PUGET SOUND ENERGY INC</td>\n",
       "      <td>5.306701e+10</td>\n",
       "    </tr>\n",
       "    <tr>\n",
       "      <th>1</th>\n",
       "      <td>1N4BZ1DV4N</td>\n",
       "      <td>Island</td>\n",
       "      <td>Clinton</td>\n",
       "      <td>WA</td>\n",
       "      <td>98236.0</td>\n",
       "      <td>2022</td>\n",
       "      <td>NISSAN</td>\n",
       "      <td>LEAF</td>\n",
       "      <td>Battery Electric Vehicle (BEV)</td>\n",
       "      <td>Eligibility unknown as battery range has not b...</td>\n",
       "      <td>0.0</td>\n",
       "      <td>0.0</td>\n",
       "      <td>10.0</td>\n",
       "      <td>183272785</td>\n",
       "      <td>POINT (-122.35936399999997 47.97965520000008)</td>\n",
       "      <td>PUGET SOUND ENERGY INC</td>\n",
       "      <td>5.302997e+10</td>\n",
       "    </tr>\n",
       "    <tr>\n",
       "      <th>2</th>\n",
       "      <td>5YJ3E1EA0L</td>\n",
       "      <td>Snohomish</td>\n",
       "      <td>Snohomish</td>\n",
       "      <td>WA</td>\n",
       "      <td>98290.0</td>\n",
       "      <td>2020</td>\n",
       "      <td>TESLA</td>\n",
       "      <td>MODEL 3</td>\n",
       "      <td>Battery Electric Vehicle (BEV)</td>\n",
       "      <td>Clean Alternative Fuel Vehicle Eligible</td>\n",
       "      <td>266.0</td>\n",
       "      <td>0.0</td>\n",
       "      <td>44.0</td>\n",
       "      <td>112552366</td>\n",
       "      <td>POINT (-122.09150499999998 47.91555500000004)</td>\n",
       "      <td>PUGET SOUND ENERGY INC</td>\n",
       "      <td>5.306105e+10</td>\n",
       "    </tr>\n",
       "    <tr>\n",
       "      <th>3</th>\n",
       "      <td>5YJ3E1EBXL</td>\n",
       "      <td>King</td>\n",
       "      <td>Seattle</td>\n",
       "      <td>WA</td>\n",
       "      <td>98134.0</td>\n",
       "      <td>2020</td>\n",
       "      <td>TESLA</td>\n",
       "      <td>MODEL 3</td>\n",
       "      <td>Battery Electric Vehicle (BEV)</td>\n",
       "      <td>Clean Alternative Fuel Vehicle Eligible</td>\n",
       "      <td>322.0</td>\n",
       "      <td>0.0</td>\n",
       "      <td>11.0</td>\n",
       "      <td>6336319</td>\n",
       "      <td>POINT (-122.32981499999994 47.579810000000066)</td>\n",
       "      <td>CITY OF SEATTLE - (WA)|CITY OF TACOMA - (WA)</td>\n",
       "      <td>5.303301e+10</td>\n",
       "    </tr>\n",
       "    <tr>\n",
       "      <th>4</th>\n",
       "      <td>5YJSA1CP0D</td>\n",
       "      <td>Snohomish</td>\n",
       "      <td>Edmonds</td>\n",
       "      <td>WA</td>\n",
       "      <td>98020.0</td>\n",
       "      <td>2013</td>\n",
       "      <td>TESLA</td>\n",
       "      <td>MODEL S</td>\n",
       "      <td>Battery Electric Vehicle (BEV)</td>\n",
       "      <td>Clean Alternative Fuel Vehicle Eligible</td>\n",
       "      <td>208.0</td>\n",
       "      <td>69900.0</td>\n",
       "      <td>21.0</td>\n",
       "      <td>186212960</td>\n",
       "      <td>POINT (-122.37507 47.80807000000004)</td>\n",
       "      <td>PUGET SOUND ENERGY INC</td>\n",
       "      <td>5.306105e+10</td>\n",
       "    </tr>\n",
       "  </tbody>\n",
       "</table>\n",
       "</div>"
      ],
      "text/plain": [
       "   VIN (1-10)     County       City State  Postal Code  Model Year    Make  \\\n",
       "0  5YJ3E1EA0K   Thurston   Tumwater    WA      98512.0        2019   TESLA   \n",
       "1  1N4BZ1DV4N     Island    Clinton    WA      98236.0        2022  NISSAN   \n",
       "2  5YJ3E1EA0L  Snohomish  Snohomish    WA      98290.0        2020   TESLA   \n",
       "3  5YJ3E1EBXL       King    Seattle    WA      98134.0        2020   TESLA   \n",
       "4  5YJSA1CP0D  Snohomish    Edmonds    WA      98020.0        2013   TESLA   \n",
       "\n",
       "     Model           Electric Vehicle Type  \\\n",
       "0  MODEL 3  Battery Electric Vehicle (BEV)   \n",
       "1     LEAF  Battery Electric Vehicle (BEV)   \n",
       "2  MODEL 3  Battery Electric Vehicle (BEV)   \n",
       "3  MODEL 3  Battery Electric Vehicle (BEV)   \n",
       "4  MODEL S  Battery Electric Vehicle (BEV)   \n",
       "\n",
       "   Clean Alternative Fuel Vehicle (CAFV) Eligibility  Electric Range  \\\n",
       "0            Clean Alternative Fuel Vehicle Eligible           220.0   \n",
       "1  Eligibility unknown as battery range has not b...             0.0   \n",
       "2            Clean Alternative Fuel Vehicle Eligible           266.0   \n",
       "3            Clean Alternative Fuel Vehicle Eligible           322.0   \n",
       "4            Clean Alternative Fuel Vehicle Eligible           208.0   \n",
       "\n",
       "   Base MSRP  Legislative District  DOL Vehicle ID  \\\n",
       "0        0.0                  22.0       242565116   \n",
       "1        0.0                  10.0       183272785   \n",
       "2        0.0                  44.0       112552366   \n",
       "3        0.0                  11.0         6336319   \n",
       "4    69900.0                  21.0       186212960   \n",
       "\n",
       "                                 Vehicle Location  \\\n",
       "0   POINT (-122.91310169999997 47.01359260000004)   \n",
       "1   POINT (-122.35936399999997 47.97965520000008)   \n",
       "2   POINT (-122.09150499999998 47.91555500000004)   \n",
       "3  POINT (-122.32981499999994 47.579810000000066)   \n",
       "4            POINT (-122.37507 47.80807000000004)   \n",
       "\n",
       "                               Electric Utility  2020 Census Tract  \n",
       "0                        PUGET SOUND ENERGY INC       5.306701e+10  \n",
       "1                        PUGET SOUND ENERGY INC       5.302997e+10  \n",
       "2                        PUGET SOUND ENERGY INC       5.306105e+10  \n",
       "3  CITY OF SEATTLE - (WA)|CITY OF TACOMA - (WA)       5.303301e+10  \n",
       "4                        PUGET SOUND ENERGY INC       5.306105e+10  "
      ]
     },
     "execution_count": 5,
     "metadata": {},
     "output_type": "execute_result"
    }
   ],
   "source": [
    "df.head()"
   ]
  },
  {
   "cell_type": "markdown",
   "id": "715a6e03",
   "metadata": {},
   "source": [
    "To help me better in my analysis, i will be writing out description for each columns:\n",
    "\n",
    "- `VIN (1-10)`: a unique code that identifies each vehicle. It is composed of 17 characters and is used to identify the vehicle’s manufacturer, model, and year of production.                                            \n",
    "- `County`: county of the state where the vehicle was registered                                                 \n",
    "- `City`   : city where the vehicle was registered                                                \n",
    "- `State`  : state were the vehicle was registered                                               \n",
    "- `Postal Code`  : postal code of the state were the vehicle was registered                                          \n",
    "- `Model Year`  : year the model of the car was created                                           \n",
    "- `Make`        : company that designed the car                                           \n",
    "- `Model`   : specific type of the car designed                                             \n",
    "- `Electric Vehicle Type` :          the type of electric vehicle the car is: BEVs or PHEVs                      \n",
    "- `Clean Alternative Fuel Vehicle (CAFV) Eligibility`      : are these vehicles eligible to use use energy that comes from something other than petroleum (oil)\n",
    "- `Electric Range `   : the distance an electric vehicle can travel before the battery needs to be recharged.                    - `Base MSRP`       :   MSRP stands for manufacturer's suggested retail price. It’s the price that car manufacturers recommend dealerships sell their vehicles for.                                    \n",
    "- `Legislative District`:    a geographical area created to provide its population with representation in the larger state’s legislative body                             \n",
    "- `DOL Vehicle ID`                    \n",
    "- `Vehicle Location` : the geographical loaction of the vehicle                                       \n",
    "- `Electric Utility`: company in the electric power industry that engages in electricity generation and distribution of electricity for sale generally in a regulated market.                                        \n",
    "- `2020 Census Tract` : are small, relatively permanent statistical subdivisions of a county or equivalent entity, and were defined by local participants as part of the 2020 Census Participant Statistical Areas Program.     "
   ]
  },
  {
   "cell_type": "code",
   "execution_count": 84,
   "id": "f385e743",
   "metadata": {},
   "outputs": [],
   "source": [
    "df_copy = df.copy()"
   ]
  },
  {
   "cell_type": "code",
   "execution_count": 85,
   "id": "e729fe23",
   "metadata": {},
   "outputs": [],
   "source": [
    "#fill null columns with null values <=10\n",
    "df_copy.loc[:, ['County', 'City','Vehicle Location',\n",
    "                'Electric Utility']] = df_copy.loc[:, ['County', 'City',\n",
    "                                                       'Vehicle Location','Electric Utility']].fillna('not available')"
   ]
  },
  {
   "cell_type": "code",
   "execution_count": 86,
   "id": "0478d7b9",
   "metadata": {},
   "outputs": [],
   "source": [
    "#fill missing numerical columns with 0\n",
    "df_copy.loc[:,['Electric Range','Base MSRP']] = df_copy.loc[:,['Electric Range','Base MSRP']].fillna(0)"
   ]
  },
  {
   "cell_type": "code",
   "execution_count": 87,
   "id": "20c145b3",
   "metadata": {},
   "outputs": [
    {
     "data": {
      "text/plain": [
       "VIN (1-10)                                             0\n",
       "County                                                 0\n",
       "City                                                   0\n",
       "State                                                  0\n",
       "Postal Code                                            8\n",
       "Model Year                                             0\n",
       "Make                                                   0\n",
       "Model                                                249\n",
       "Electric Vehicle Type                                  0\n",
       "Clean Alternative Fuel Vehicle (CAFV) Eligibility      0\n",
       "Electric Range                                         0\n",
       "Base MSRP                                              0\n",
       "Legislative District                                 312\n",
       "DOL Vehicle ID                                         0\n",
       "Vehicle Location                                       0\n",
       "Electric Utility                                       0\n",
       "2020 Census Tract                                      8\n",
       "dtype: int64"
      ]
     },
     "execution_count": 87,
     "metadata": {},
     "output_type": "execute_result"
    }
   ],
   "source": [
    "df_copy.isnull().sum()"
   ]
  },
  {
   "cell_type": "markdown",
   "id": "2a586d23",
   "metadata": {},
   "source": [
    "Now we have the null values in `Model` and `legistrative District` to fix. For the `model` column, we will use the available vehicle information to see if we can get the model from this [website](https://vpic.nhtsa.dot.gov/decoder/Decoder)"
   ]
  },
  {
   "cell_type": "code",
   "execution_count": 88,
   "id": "ed153a9f",
   "metadata": {},
   "outputs": [
    {
     "data": {
      "text/html": [
       "<div>\n",
       "<style scoped>\n",
       "    .dataframe tbody tr th:only-of-type {\n",
       "        vertical-align: middle;\n",
       "    }\n",
       "\n",
       "    .dataframe tbody tr th {\n",
       "        vertical-align: top;\n",
       "    }\n",
       "\n",
       "    .dataframe thead th {\n",
       "        text-align: right;\n",
       "    }\n",
       "</style>\n",
       "<table border=\"1\" class=\"dataframe\">\n",
       "  <thead>\n",
       "    <tr style=\"text-align: right;\">\n",
       "      <th></th>\n",
       "      <th>VIN (1-10)</th>\n",
       "      <th>County</th>\n",
       "      <th>City</th>\n",
       "      <th>State</th>\n",
       "      <th>Postal Code</th>\n",
       "      <th>Model Year</th>\n",
       "      <th>Make</th>\n",
       "      <th>Model</th>\n",
       "      <th>Electric Vehicle Type</th>\n",
       "      <th>Clean Alternative Fuel Vehicle (CAFV) Eligibility</th>\n",
       "      <th>Electric Range</th>\n",
       "      <th>Base MSRP</th>\n",
       "      <th>Legislative District</th>\n",
       "      <th>DOL Vehicle ID</th>\n",
       "      <th>Vehicle Location</th>\n",
       "      <th>Electric Utility</th>\n",
       "      <th>2020 Census Tract</th>\n",
       "    </tr>\n",
       "  </thead>\n",
       "  <tbody>\n",
       "    <tr>\n",
       "      <th>419</th>\n",
       "      <td>YV4ED3UW1P</td>\n",
       "      <td>King</td>\n",
       "      <td>Seattle</td>\n",
       "      <td>WA</td>\n",
       "      <td>98146.0</td>\n",
       "      <td>2023</td>\n",
       "      <td>VOLVO</td>\n",
       "      <td>NaN</td>\n",
       "      <td>Battery Electric Vehicle (BEV)</td>\n",
       "      <td>Eligibility unknown as battery range has not b...</td>\n",
       "      <td>0.0</td>\n",
       "      <td>0.0</td>\n",
       "      <td>34.0</td>\n",
       "      <td>227240163</td>\n",
       "      <td>POINT (-122.355145 47.50565500000005)</td>\n",
       "      <td>CITY OF SEATTLE - (WA)|CITY OF TACOMA - (WA)</td>\n",
       "      <td>5.303301e+10</td>\n",
       "    </tr>\n",
       "    <tr>\n",
       "      <th>1241</th>\n",
       "      <td>YV4ED3UW1P</td>\n",
       "      <td>King</td>\n",
       "      <td>Seattle</td>\n",
       "      <td>WA</td>\n",
       "      <td>98125.0</td>\n",
       "      <td>2023</td>\n",
       "      <td>VOLVO</td>\n",
       "      <td>NaN</td>\n",
       "      <td>Battery Electric Vehicle (BEV)</td>\n",
       "      <td>Eligibility unknown as battery range has not b...</td>\n",
       "      <td>0.0</td>\n",
       "      <td>0.0</td>\n",
       "      <td>46.0</td>\n",
       "      <td>236425430</td>\n",
       "      <td>POINT (-122.29638499999999 47.715580000000045)</td>\n",
       "      <td>CITY OF SEATTLE - (WA)|CITY OF TACOMA - (WA)</td>\n",
       "      <td>5.303300e+10</td>\n",
       "    </tr>\n",
       "    <tr>\n",
       "      <th>1670</th>\n",
       "      <td>YV4ED3UM2P</td>\n",
       "      <td>King</td>\n",
       "      <td>North Bend</td>\n",
       "      <td>WA</td>\n",
       "      <td>98045.0</td>\n",
       "      <td>2023</td>\n",
       "      <td>VOLVO</td>\n",
       "      <td>NaN</td>\n",
       "      <td>Battery Electric Vehicle (BEV)</td>\n",
       "      <td>Eligibility unknown as battery range has not b...</td>\n",
       "      <td>0.0</td>\n",
       "      <td>0.0</td>\n",
       "      <td>5.0</td>\n",
       "      <td>223998148</td>\n",
       "      <td>POINT (-121.78140119999995 47.49353160000004)</td>\n",
       "      <td>PUGET SOUND ENERGY INC||CITY OF TACOMA - (WA)</td>\n",
       "      <td>5.303303e+10</td>\n",
       "    </tr>\n",
       "    <tr>\n",
       "      <th>2673</th>\n",
       "      <td>YV4ED3UM0P</td>\n",
       "      <td>King</td>\n",
       "      <td>Bellevue</td>\n",
       "      <td>WA</td>\n",
       "      <td>98007.0</td>\n",
       "      <td>2023</td>\n",
       "      <td>VOLVO</td>\n",
       "      <td>NaN</td>\n",
       "      <td>Battery Electric Vehicle (BEV)</td>\n",
       "      <td>Eligibility unknown as battery range has not b...</td>\n",
       "      <td>0.0</td>\n",
       "      <td>0.0</td>\n",
       "      <td>48.0</td>\n",
       "      <td>235094982</td>\n",
       "      <td>POINT (-122.14738499999999 47.59997500000003)</td>\n",
       "      <td>PUGET SOUND ENERGY INC||CITY OF TACOMA - (WA)</td>\n",
       "      <td>5.303302e+10</td>\n",
       "    </tr>\n",
       "    <tr>\n",
       "      <th>3484</th>\n",
       "      <td>YV4ED3UW2P</td>\n",
       "      <td>King</td>\n",
       "      <td>Bellevue</td>\n",
       "      <td>WA</td>\n",
       "      <td>98005.0</td>\n",
       "      <td>2023</td>\n",
       "      <td>VOLVO</td>\n",
       "      <td>NaN</td>\n",
       "      <td>Battery Electric Vehicle (BEV)</td>\n",
       "      <td>Eligibility unknown as battery range has not b...</td>\n",
       "      <td>0.0</td>\n",
       "      <td>0.0</td>\n",
       "      <td>41.0</td>\n",
       "      <td>224685695</td>\n",
       "      <td>POINT (-122.16084999999998 47.62451500000003)</td>\n",
       "      <td>PUGET SOUND ENERGY INC||CITY OF TACOMA - (WA)</td>\n",
       "      <td>5.303302e+10</td>\n",
       "    </tr>\n",
       "    <tr>\n",
       "      <th>...</th>\n",
       "      <td>...</td>\n",
       "      <td>...</td>\n",
       "      <td>...</td>\n",
       "      <td>...</td>\n",
       "      <td>...</td>\n",
       "      <td>...</td>\n",
       "      <td>...</td>\n",
       "      <td>...</td>\n",
       "      <td>...</td>\n",
       "      <td>...</td>\n",
       "      <td>...</td>\n",
       "      <td>...</td>\n",
       "      <td>...</td>\n",
       "      <td>...</td>\n",
       "      <td>...</td>\n",
       "      <td>...</td>\n",
       "      <td>...</td>\n",
       "    </tr>\n",
       "    <tr>\n",
       "      <th>132626</th>\n",
       "      <td>YV4ED3UW6P</td>\n",
       "      <td>Pierce</td>\n",
       "      <td>Graham</td>\n",
       "      <td>WA</td>\n",
       "      <td>98338.0</td>\n",
       "      <td>2023</td>\n",
       "      <td>VOLVO</td>\n",
       "      <td>NaN</td>\n",
       "      <td>Battery Electric Vehicle (BEV)</td>\n",
       "      <td>Eligibility unknown as battery range has not b...</td>\n",
       "      <td>0.0</td>\n",
       "      <td>0.0</td>\n",
       "      <td>2.0</td>\n",
       "      <td>230267887</td>\n",
       "      <td>POINT (-122.29534009999998 47.07639610000007)</td>\n",
       "      <td>BONNEVILLE POWER ADMINISTRATION||CITY OF TACOM...</td>\n",
       "      <td>5.305307e+10</td>\n",
       "    </tr>\n",
       "    <tr>\n",
       "      <th>133277</th>\n",
       "      <td>YV4ED3UM5P</td>\n",
       "      <td>King</td>\n",
       "      <td>Sammamish</td>\n",
       "      <td>WA</td>\n",
       "      <td>98074.0</td>\n",
       "      <td>2023</td>\n",
       "      <td>VOLVO</td>\n",
       "      <td>NaN</td>\n",
       "      <td>Battery Electric Vehicle (BEV)</td>\n",
       "      <td>Eligibility unknown as battery range has not b...</td>\n",
       "      <td>0.0</td>\n",
       "      <td>0.0</td>\n",
       "      <td>41.0</td>\n",
       "      <td>229747206</td>\n",
       "      <td>POINT (-122.03132659999994 47.62857820000005)</td>\n",
       "      <td>PUGET SOUND ENERGY INC||CITY OF TACOMA - (WA)</td>\n",
       "      <td>5.303303e+10</td>\n",
       "    </tr>\n",
       "    <tr>\n",
       "      <th>133309</th>\n",
       "      <td>YV4ED3UL8P</td>\n",
       "      <td>Snohomish</td>\n",
       "      <td>Lake Stevens</td>\n",
       "      <td>WA</td>\n",
       "      <td>98258.0</td>\n",
       "      <td>2023</td>\n",
       "      <td>VOLVO</td>\n",
       "      <td>NaN</td>\n",
       "      <td>Battery Electric Vehicle (BEV)</td>\n",
       "      <td>Eligibility unknown as battery range has not b...</td>\n",
       "      <td>0.0</td>\n",
       "      <td>0.0</td>\n",
       "      <td>39.0</td>\n",
       "      <td>233870031</td>\n",
       "      <td>POINT (-122.11206499999997 48.00434500000006)</td>\n",
       "      <td>PUGET SOUND ENERGY INC</td>\n",
       "      <td>5.306105e+10</td>\n",
       "    </tr>\n",
       "    <tr>\n",
       "      <th>134050</th>\n",
       "      <td>YV4ED3UM3P</td>\n",
       "      <td>King</td>\n",
       "      <td>Carnation</td>\n",
       "      <td>WA</td>\n",
       "      <td>98014.0</td>\n",
       "      <td>2023</td>\n",
       "      <td>VOLVO</td>\n",
       "      <td>NaN</td>\n",
       "      <td>Battery Electric Vehicle (BEV)</td>\n",
       "      <td>Eligibility unknown as battery range has not b...</td>\n",
       "      <td>0.0</td>\n",
       "      <td>0.0</td>\n",
       "      <td>5.0</td>\n",
       "      <td>235064623</td>\n",
       "      <td>POINT (-121.91048029999996 47.64864000000006)</td>\n",
       "      <td>CITY OF TACOMA - (WA)||TANNER ELECTRIC COOP</td>\n",
       "      <td>5.303303e+10</td>\n",
       "    </tr>\n",
       "    <tr>\n",
       "      <th>134455</th>\n",
       "      <td>YV4ED3UMXP</td>\n",
       "      <td>Snohomish</td>\n",
       "      <td>Stanwood</td>\n",
       "      <td>WA</td>\n",
       "      <td>98292.0</td>\n",
       "      <td>2023</td>\n",
       "      <td>VOLVO</td>\n",
       "      <td>NaN</td>\n",
       "      <td>Battery Electric Vehicle (BEV)</td>\n",
       "      <td>Eligibility unknown as battery range has not b...</td>\n",
       "      <td>0.0</td>\n",
       "      <td>0.0</td>\n",
       "      <td>10.0</td>\n",
       "      <td>233527199</td>\n",
       "      <td>POINT (-122.36840509999996 48.24149210000007)</td>\n",
       "      <td>BONNEVILLE POWER ADMINISTRATION||PUD 1 OF SNOH...</td>\n",
       "      <td>5.306105e+10</td>\n",
       "    </tr>\n",
       "  </tbody>\n",
       "</table>\n",
       "<p>249 rows × 17 columns</p>\n",
       "</div>"
      ],
      "text/plain": [
       "        VIN (1-10)     County          City State  Postal Code  Model Year  \\\n",
       "419     YV4ED3UW1P       King       Seattle    WA      98146.0        2023   \n",
       "1241    YV4ED3UW1P       King       Seattle    WA      98125.0        2023   \n",
       "1670    YV4ED3UM2P       King    North Bend    WA      98045.0        2023   \n",
       "2673    YV4ED3UM0P       King      Bellevue    WA      98007.0        2023   \n",
       "3484    YV4ED3UW2P       King      Bellevue    WA      98005.0        2023   \n",
       "...            ...        ...           ...   ...          ...         ...   \n",
       "132626  YV4ED3UW6P     Pierce        Graham    WA      98338.0        2023   \n",
       "133277  YV4ED3UM5P       King     Sammamish    WA      98074.0        2023   \n",
       "133309  YV4ED3UL8P  Snohomish  Lake Stevens    WA      98258.0        2023   \n",
       "134050  YV4ED3UM3P       King     Carnation    WA      98014.0        2023   \n",
       "134455  YV4ED3UMXP  Snohomish      Stanwood    WA      98292.0        2023   \n",
       "\n",
       "         Make Model           Electric Vehicle Type  \\\n",
       "419     VOLVO   NaN  Battery Electric Vehicle (BEV)   \n",
       "1241    VOLVO   NaN  Battery Electric Vehicle (BEV)   \n",
       "1670    VOLVO   NaN  Battery Electric Vehicle (BEV)   \n",
       "2673    VOLVO   NaN  Battery Electric Vehicle (BEV)   \n",
       "3484    VOLVO   NaN  Battery Electric Vehicle (BEV)   \n",
       "...       ...   ...                             ...   \n",
       "132626  VOLVO   NaN  Battery Electric Vehicle (BEV)   \n",
       "133277  VOLVO   NaN  Battery Electric Vehicle (BEV)   \n",
       "133309  VOLVO   NaN  Battery Electric Vehicle (BEV)   \n",
       "134050  VOLVO   NaN  Battery Electric Vehicle (BEV)   \n",
       "134455  VOLVO   NaN  Battery Electric Vehicle (BEV)   \n",
       "\n",
       "        Clean Alternative Fuel Vehicle (CAFV) Eligibility  Electric Range  \\\n",
       "419     Eligibility unknown as battery range has not b...             0.0   \n",
       "1241    Eligibility unknown as battery range has not b...             0.0   \n",
       "1670    Eligibility unknown as battery range has not b...             0.0   \n",
       "2673    Eligibility unknown as battery range has not b...             0.0   \n",
       "3484    Eligibility unknown as battery range has not b...             0.0   \n",
       "...                                                   ...             ...   \n",
       "132626  Eligibility unknown as battery range has not b...             0.0   \n",
       "133277  Eligibility unknown as battery range has not b...             0.0   \n",
       "133309  Eligibility unknown as battery range has not b...             0.0   \n",
       "134050  Eligibility unknown as battery range has not b...             0.0   \n",
       "134455  Eligibility unknown as battery range has not b...             0.0   \n",
       "\n",
       "        Base MSRP  Legislative District  DOL Vehicle ID  \\\n",
       "419           0.0                  34.0       227240163   \n",
       "1241          0.0                  46.0       236425430   \n",
       "1670          0.0                   5.0       223998148   \n",
       "2673          0.0                  48.0       235094982   \n",
       "3484          0.0                  41.0       224685695   \n",
       "...           ...                   ...             ...   \n",
       "132626        0.0                   2.0       230267887   \n",
       "133277        0.0                  41.0       229747206   \n",
       "133309        0.0                  39.0       233870031   \n",
       "134050        0.0                   5.0       235064623   \n",
       "134455        0.0                  10.0       233527199   \n",
       "\n",
       "                                      Vehicle Location  \\\n",
       "419              POINT (-122.355145 47.50565500000005)   \n",
       "1241    POINT (-122.29638499999999 47.715580000000045)   \n",
       "1670     POINT (-121.78140119999995 47.49353160000004)   \n",
       "2673     POINT (-122.14738499999999 47.59997500000003)   \n",
       "3484     POINT (-122.16084999999998 47.62451500000003)   \n",
       "...                                                ...   \n",
       "132626   POINT (-122.29534009999998 47.07639610000007)   \n",
       "133277   POINT (-122.03132659999994 47.62857820000005)   \n",
       "133309   POINT (-122.11206499999997 48.00434500000006)   \n",
       "134050   POINT (-121.91048029999996 47.64864000000006)   \n",
       "134455   POINT (-122.36840509999996 48.24149210000007)   \n",
       "\n",
       "                                         Electric Utility  2020 Census Tract  \n",
       "419          CITY OF SEATTLE - (WA)|CITY OF TACOMA - (WA)       5.303301e+10  \n",
       "1241         CITY OF SEATTLE - (WA)|CITY OF TACOMA - (WA)       5.303300e+10  \n",
       "1670        PUGET SOUND ENERGY INC||CITY OF TACOMA - (WA)       5.303303e+10  \n",
       "2673        PUGET SOUND ENERGY INC||CITY OF TACOMA - (WA)       5.303302e+10  \n",
       "3484        PUGET SOUND ENERGY INC||CITY OF TACOMA - (WA)       5.303302e+10  \n",
       "...                                                   ...                ...  \n",
       "132626  BONNEVILLE POWER ADMINISTRATION||CITY OF TACOM...       5.305307e+10  \n",
       "133277      PUGET SOUND ENERGY INC||CITY OF TACOMA - (WA)       5.303303e+10  \n",
       "133309                             PUGET SOUND ENERGY INC       5.306105e+10  \n",
       "134050        CITY OF TACOMA - (WA)||TANNER ELECTRIC COOP       5.303303e+10  \n",
       "134455  BONNEVILLE POWER ADMINISTRATION||PUD 1 OF SNOH...       5.306105e+10  \n",
       "\n",
       "[249 rows x 17 columns]"
      ]
     },
     "execution_count": 88,
     "metadata": {},
     "output_type": "execute_result"
    }
   ],
   "source": [
    "df_copy[df_copy['Model'].isnull()]"
   ]
  },
  {
   "cell_type": "markdown",
   "id": "778467a3",
   "metadata": {},
   "source": [
    "Upon investigation, it looks like the model for this vehicle are not available. Coincidentally, they are 2023 cars, so we will just replace the null rows with `not available`"
   ]
  },
  {
   "cell_type": "code",
   "execution_count": 96,
   "id": "eecb8d5b",
   "metadata": {},
   "outputs": [],
   "source": [
    "df_copy.loc[:,'Model'] = df_copy.loc[:,'Model'].fillna('not available')"
   ]
  },
  {
   "cell_type": "markdown",
   "id": "fb1db52b",
   "metadata": {},
   "source": [
    "Now, let's look at `legistrative district` column. This column dont have much relevant to this analysis so we will just drop it."
   ]
  },
  {
   "cell_type": "code",
   "execution_count": 106,
   "id": "24c9b244",
   "metadata": {},
   "outputs": [],
   "source": [
    "df_copy.drop(['Legislative District'],axis=1,inplace=True)"
   ]
  },
  {
   "cell_type": "markdown",
   "id": "d97a627f",
   "metadata": {},
   "source": [
    "There is no state that has the abbreviation `AP` and `BC` so we will remove those rows."
   ]
  },
  {
   "cell_type": "code",
   "execution_count": 123,
   "id": "467e144e",
   "metadata": {},
   "outputs": [],
   "source": [
    "df_copy = df_copy[~df_copy['State'].isin(['AB', 'BC'])]"
   ]
  },
  {
   "cell_type": "markdown",
   "id": "5ddb7db7",
   "metadata": {},
   "source": [
    "We well state by mapping out this states and renaming them."
   ]
  },
  {
   "cell_type": "code",
   "execution_count": 127,
   "id": "dbec2e28",
   "metadata": {
    "scrolled": true
   },
   "outputs": [
    {
     "name": "stderr",
     "output_type": "stream",
     "text": [
      "C:\\Users\\PC\\AppData\\Local\\Temp\\ipykernel_15268\\1078199939.py:16: SettingWithCopyWarning: \n",
      "A value is trying to be set on a copy of a slice from a DataFrame\n",
      "\n",
      "See the caveats in the documentation: https://pandas.pydata.org/pandas-docs/stable/user_guide/indexing.html#returning-a-view-versus-a-copy\n",
      "  df_copy.replace(countries_rename,inplace=True)\n"
     ]
    }
   ],
   "source": [
    "countries_rename= {\n",
    "    'WA': 'Washington', 'CA':'Califonia', 'AZ':'Arizona',\n",
    "     'IL':'Illinois', 'KS':'Kansas', 'VA':'Virginia', 'NE':'Nebraska',\n",
    "    'DC':\"District of Columbia\", 'MD':'Maryland', 'TX':'Texas',\n",
    "       'NV':'Nevada', 'UT':'Utah', 'GA':'Georgia', 'NC':'North Carolina', \n",
    "    'SC':'South Carolina', 'MO':'Missouri', 'CO':'Connecticut', 'AR':'Arkansas', \n",
    "    'FL':'Florida', 'NJ':'New Jersey', 'ID':'Idaho',\n",
    "       'HI':'Hawaii', 'MI':'Michigan', 'DE':'Delaware', 'OR':'Oregon', \n",
    "    'LA':'Louisiana', 'OH':'Ohio', 'NM':'New Mexico', 'WY':'Wyoming', \n",
    "    'TN':'Tennessee', 'OK':'Oklahoma', 'KY':'Kentucky',\n",
    "       'AL':'Alabama', 'MS':'Mississippi', 'PA':'Pennsylvania', 'CT':'Connecticut', \n",
    "    'IN':'Indiana', 'NY':'New York', 'AK':'Alaska', 'MA':'Massachusetts', 'MT':'Montana', \n",
    "    'NH':'New Hampshire','RI':'Rhode Island', 'MN':'Minnesota'\n",
    "}\n",
    "\n",
    "df_copy.replace(countries_rename,inplace=True)"
   ]
  },
  {
   "cell_type": "code",
   "execution_count": 138,
   "id": "e758ded6",
   "metadata": {},
   "outputs": [],
   "source": [
    "#rename the row\n",
    "df_copy['Clean Alternative Fuel Vehicle (CAFV) Eligibility'] = df_copy['Clean Alternative Fuel Vehicle (CAFV) Eligibility'].replace('Clean Alternative Fuel Vehicle Eligible','Eligible')"
   ]
  },
  {
   "cell_type": "code",
   "execution_count": null,
   "id": "95630f8e",
   "metadata": {},
   "outputs": [],
   "source": []
  },
  {
   "cell_type": "markdown",
   "id": "f420ec9e",
   "metadata": {},
   "source": [
    "## 2. Analysis\n",
    "\n",
    "We are going to answer the following questions from this analysis...\n",
    "\n",
    "- How many unique vehicle models are in the dataset?\n",
    "- What are the different makes of electric vehicles present in the dataset?\n",
    "- What is the distribution of electric vehicle types (BEV, PHEV) in the dataset?\n",
    "- Which county has the highest number of electric vehicles?\n",
    "- What is the average electric range of the electric vehicles?\n",
    "- What is the most common electric utility associated with the electric vehicles?\n",
    "- Are there any electric vehicles with a base MSRP of $0?\n",
    "\n",
    "- How many electric vehicles are eligible for clean alternative fuel vehicle (CAFV) incentives?\n",
    "- How many electric vehicles were registered in each year?"
   ]
  },
  {
   "cell_type": "markdown",
   "id": "8ae2c1e1",
   "metadata": {},
   "source": [
    "### 1. How many unique vehicle models are in the dataset?"
   ]
  },
  {
   "cell_type": "code",
   "execution_count": 145,
   "id": "19a1c631",
   "metadata": {},
   "outputs": [
    {
     "data": {
      "text/plain": [
       "126"
      ]
     },
     "execution_count": 145,
     "metadata": {},
     "output_type": "execute_result"
    }
   ],
   "source": [
    "df_copy['Model'].nunique()"
   ]
  },
  {
   "cell_type": "markdown",
   "id": "5ef62d0e",
   "metadata": {},
   "source": [
    "### 2. What are the different makes of electric vehicles present in the dataset?"
   ]
  },
  {
   "cell_type": "code",
   "execution_count": 147,
   "id": "0d6e3b85",
   "metadata": {},
   "outputs": [
    {
     "data": {
      "text/plain": [
       "36"
      ]
     },
     "execution_count": 147,
     "metadata": {},
     "output_type": "execute_result"
    }
   ],
   "source": [
    "df_copy['Make'].nunique()"
   ]
  },
  {
   "cell_type": "markdown",
   "id": "da22716a",
   "metadata": {},
   "source": [
    "### 3. What is the distribution of electric vehicle types (BEV, PHEV) in the dataset?"
   ]
  },
  {
   "cell_type": "code",
   "execution_count": 160,
   "id": "153735c6",
   "metadata": {},
   "outputs": [
    {
     "data": {
      "image/png": "[encoded data removed]",
      "text/plain": [
       "<Figure size 432x288 with 1 Axes>"
      ]
     },
     "metadata": {},
     "output_type": "display_data"
    }
   ],
   "source": [
    "df_copy['Electric Vehicle Type'].value_counts().plot.pie(autopct='%1.1f%%');\n",
    "#plt.axis('equal') ; # Equal aspect ratio ensures a circular pie chart"
   ]
  },
  {
   "cell_type": "markdown",
   "id": "4353b5a0",
   "metadata": {},
   "source": [
    "### 4. Which county has the highest number of electric vehicles?"
   ]
  },
  {
   "cell_type": "code",
   "execution_count": 171,
   "id": "51d579c3",
   "metadata": {},
   "outputs": [
    {
     "data": {
      "image/png": "[encoded data removed]",
      "text/plain": [
       "<Figure size 432x288 with 1 Axes>"
      ]
     },
     "metadata": {
      "needs_background": "light"
     },
     "output_type": "display_data"
    }
   ],
   "source": [
    "import matplotlib.pyplot as plt\n",
    "\n",
    "top_20_county_counts = df_copy['County'].value_counts().nlargest(20)\n",
    "\n",
    "plt.bar(top_20_county_counts.index, top_20_county_counts.values)\n",
    "plt.xlabel('County')\n",
    "plt.ylabel('Number of Electric Vehicles')\n",
    "plt.title('Top 20 Counties with the Highest Number of Electric Vehicles')\n",
    "plt.xticks(rotation=90);"
   ]
  },
  {
   "cell_type": "markdown",
   "id": "639c8535",
   "metadata": {},
   "source": [
    "### 5. What is the most common electric utility associated with the electric vehicles?"
   ]
  },
  {
   "cell_type": "code",
   "execution_count": 181,
   "id": "14a97ca3",
   "metadata": {},
   "outputs": [
    {
     "data": {
      "image/png": "[encoded data removed]",
      "text/plain": [
       "<Figure size 432x288 with 1 Axes>"
      ]
     },
     "metadata": {
      "needs_background": "light"
     },
     "output_type": "display_data"
    }
   ],
   "source": [
    "df_copy['Electric Utility'].value_counts().nlargest(20).plot.bar();"
   ]
  },
  {
   "cell_type": "markdown",
   "id": "5398d158",
   "metadata": {},
   "source": [
    "### 6 Are there any electric vehicles with a base MSRP of $0?"
   ]
  },
  {
   "cell_type": "code",
   "execution_count": 190,
   "id": "dca58a62",
   "metadata": {},
   "outputs": [
    {
     "data": {
      "text/plain": [
       "131612"
      ]
     },
     "execution_count": 190,
     "metadata": {},
     "output_type": "execute_result"
    }
   ],
   "source": [
    "len(df_copy[df_copy['Base MSRP'] == 0])"
   ]
  },
  {
   "cell_type": "markdown",
   "id": "5393b093",
   "metadata": {},
   "source": [
    "### 7. How many electric vehicles are eligible for clean alternative fuel vehicle (CAFV) incentives?"
   ]
  },
  {
   "cell_type": "code",
   "execution_count": 197,
   "id": "93739a78",
   "metadata": {},
   "outputs": [
    {
     "data": {
      "text/plain": [
       "61219"
      ]
     },
     "execution_count": 197,
     "metadata": {},
     "output_type": "execute_result"
    }
   ],
   "source": [
    "df_copy[df_copy['Clean Alternative Fuel Vehicle (CAFV) Eligibility'] == 'Eligible'].shape[0]"
   ]
  },
  {
   "cell_type": "markdown",
   "id": "927c5397",
   "metadata": {},
   "source": [
    "### 8. How many electric vehicles were registered in each year?"
   ]
  },
  {
   "cell_type": "code",
   "execution_count": 204,
   "id": "0fb60ba2",
   "metadata": {
    "scrolled": true
   },
   "outputs": [
    {
     "data": {
      "image/png": "[encoded data removed]",
      "text/plain": [
       "<Figure size 432x288 with 1 Axes>"
      ]
     },
     "metadata": {
      "needs_background": "light"
     },
     "output_type": "display_data"
    }
   ],
   "source": [
    "df_copy['Model Year'].value_counts().sort_values(ascending=False).plot.bar();"
   ]
  },
  {
   "cell_type": "code",
   "execution_count": null,
   "id": "46ee64cc",
   "metadata": {},
   "outputs": [],
   "source": []
  },
  {
   "cell_type": "code",
   "execution_count": null,
   "id": "aab1f5e9",
   "metadata": {},
   "outputs": [],
   "source": []
  },
  {
   "cell_type": "code",
   "execution_count": null,
   "id": "5ab0838f",
   "metadata": {},
   "outputs": [],
   "source": []
  },
  {
   "cell_type": "code",
   "execution_count": null,
   "id": "905de136",
   "metadata": {},
   "outputs": [],
   "source": []
  }
 ],
 "metadata": {
  "kernelspec": {
   "display_name": "Python 3 (ipykernel)",
   "language": "python",
   "name": "python3"
  },
  "language_info": {
   "codemirror_mode": {
    "name": "ipython",
    "version": 3
   },
   "file_extension": ".py",
   "mimetype": "text/x-python",
   "name": "python",
   "nbconvert_exporter": "python",
   "pygments_lexer": "ipython3",
   "version": "3.9.12"
  }
 },
 "nbformat": 4,
 "nbformat_minor": 5
}
